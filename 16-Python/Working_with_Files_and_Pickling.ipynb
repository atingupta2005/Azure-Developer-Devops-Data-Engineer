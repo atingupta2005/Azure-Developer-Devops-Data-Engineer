{
  "nbformat": 4,
  "nbformat_minor": 0,
  "metadata": {
    "colab": {
      "name": "4. Working with Files and Pickling.ipynb",
      "provenance": [],
      "collapsed_sections": []
    },
    "kernelspec": {
      "display_name": "Python 3",
      "language": "python",
      "name": "python3"
    },
    "language_info": {
      "codemirror_mode": {
        "name": "ipython",
        "version": 3
      },
      "file_extension": ".py",
      "mimetype": "text/x-python",
      "name": "python",
      "nbconvert_exporter": "python",
      "pygments_lexer": "ipython3",
      "version": "3.7.3"
    }
  },
  "cells": [
    {
      "cell_type": "markdown",
      "metadata": {
        "id": "miWYJblFLlIx",
        "colab_type": "text"
      },
      "source": [
        "## File Modes"
      ]
    },
    {
      "cell_type": "markdown",
      "metadata": {
        "id": "OeACWEN3LlI1",
        "colab_type": "text"
      },
      "source": [
        "#### - 'r'\tOpen a file for reading. (default)\n",
        "#### - 'w'\tOpen a file for writing. Creates a new file if it does not exist or truncates the file if it exists.\n",
        "#### - 'x'\tOpen a file for exclusive creation. If the file already exists, the operation fails.\n",
        "#### - 'a'\tOpen for appending at the end of the file without truncating it. Creates a new file if it does not exist.\n",
        "#### - 't'\tOpen in text mode. (default)\n",
        "#### - 'b'\tOpen in binary mode.\n",
        "#### - '+'\tOpen a file for updating (reading and writing)"
      ]
    },
    {
      "cell_type": "markdown",
      "metadata": {
        "colab_type": "text",
        "id": "_0EGP_i3b3-B"
      },
      "source": [
        "## Working with paths"
      ]
    },
    {
      "cell_type": "code",
      "metadata": {
        "colab_type": "code",
        "id": "NAn6OJ2Eb3-E",
        "outputId": "ff20a43c-8ef9-47d2-fc8e-adf18f1e2beb",
        "colab": {
          "base_uri": "https://localhost:8080/",
          "height": 68
        }
      },
      "source": [
        "import os\n",
        "\n",
        "current_file = os.path.realpath('C:/New folder/a.txt')\n",
        "print('current file: {}'.format(current_file))\n",
        "# Note: in .py files we can get the path of current file by __file__\n",
        "\n",
        "current_dir = os.path.dirname(current_file)  \n",
        "print('current directory: {}'.format(current_dir))\n",
        "# Note: in .py files we can get the dir of current file by os.path.dirname(__file__)\n",
        "\n",
        "data_dir = os.path.join(current_dir, 'data')\n",
        "print('data directory: {}'.format(data_dir))"
      ],
      "execution_count": 0,
      "outputs": [
        {
          "output_type": "stream",
          "text": [
            "current file: /content/C:/New folder/a.txt\n",
            "current directory: /content/C:/New folder\n",
            "data directory: /content/C:/New folder/data\n"
          ],
          "name": "stdout"
        }
      ]
    },
    {
      "cell_type": "markdown",
      "metadata": {
        "colab_type": "text",
        "id": "231j8g6Fb3-Q"
      },
      "source": [
        "### Checking if path exists"
      ]
    },
    {
      "cell_type": "code",
      "metadata": {
        "colab_type": "code",
        "id": "-MfjX-NSb3-S",
        "outputId": "2894573b-5cf4-413b-d00d-30e6f46e8cb8",
        "colab": {
          "base_uri": "https://localhost:8080/",
          "height": 68
        }
      },
      "source": [
        "print('exists: {}'.format(os.path.exists(data_dir)))\n",
        "print('is file: {}'.format(os.path.isfile(data_dir)))\n",
        "print('is directory: {}'.format(os.path.isdir(data_dir)))"
      ],
      "execution_count": 0,
      "outputs": [
        {
          "output_type": "stream",
          "text": [
            "exists: False\n",
            "is file: False\n",
            "is directory: False\n"
          ],
          "name": "stdout"
        }
      ]
    },
    {
      "cell_type": "markdown",
      "metadata": {
        "colab_type": "text",
        "id": "rSKS7bYIb3-a"
      },
      "source": [
        "## Reading files"
      ]
    },
    {
      "cell_type": "code",
      "metadata": {
        "colab_type": "code",
        "id": "bdZ25nDob3-b",
        "outputId": "6891bae2-6287-4649-905c-91856fe58e08",
        "colab": {
          "base_uri": "https://localhost:8080/",
          "height": 231
        }
      },
      "source": [
        "file_path = os.path.join(data_dir, 'C:/New folder/a.txt')\n",
        "\n",
        "with open(file_path, 'r') as xyz:\n",
        "    for line in xyz:\n",
        "        print(line.strip())"
      ],
      "execution_count": 0,
      "outputs": [
        {
          "output_type": "error",
          "ename": "FileNotFoundError",
          "evalue": "ignored",
          "traceback": [
            "\u001b[0;31m---------------------------------------------------------------------------\u001b[0m",
            "\u001b[0;31mFileNotFoundError\u001b[0m                         Traceback (most recent call last)",
            "\u001b[0;32m<ipython-input-17-020d663c0a80>\u001b[0m in \u001b[0;36m<module>\u001b[0;34m()\u001b[0m\n\u001b[1;32m      1\u001b[0m \u001b[0mfile_path\u001b[0m \u001b[0;34m=\u001b[0m \u001b[0mos\u001b[0m\u001b[0;34m.\u001b[0m\u001b[0mpath\u001b[0m\u001b[0;34m.\u001b[0m\u001b[0mjoin\u001b[0m\u001b[0;34m(\u001b[0m\u001b[0mdata_dir\u001b[0m\u001b[0;34m,\u001b[0m \u001b[0;34m'C:/New folder/a.txt'\u001b[0m\u001b[0;34m)\u001b[0m\u001b[0;34m\u001b[0m\u001b[0;34m\u001b[0m\u001b[0m\n\u001b[1;32m      2\u001b[0m \u001b[0;34m\u001b[0m\u001b[0m\n\u001b[0;32m----> 3\u001b[0;31m \u001b[0;32mwith\u001b[0m \u001b[0mopen\u001b[0m\u001b[0;34m(\u001b[0m\u001b[0mfile_path\u001b[0m\u001b[0;34m,\u001b[0m \u001b[0;34m'r'\u001b[0m\u001b[0;34m)\u001b[0m \u001b[0;32mas\u001b[0m \u001b[0mxyz\u001b[0m\u001b[0;34m:\u001b[0m\u001b[0;34m\u001b[0m\u001b[0;34m\u001b[0m\u001b[0m\n\u001b[0m\u001b[1;32m      4\u001b[0m     \u001b[0;32mfor\u001b[0m \u001b[0mline\u001b[0m \u001b[0;32min\u001b[0m \u001b[0mxyz\u001b[0m\u001b[0;34m:\u001b[0m\u001b[0;34m\u001b[0m\u001b[0;34m\u001b[0m\u001b[0m\n\u001b[1;32m      5\u001b[0m         \u001b[0mprint\u001b[0m\u001b[0;34m(\u001b[0m\u001b[0mline\u001b[0m\u001b[0;34m.\u001b[0m\u001b[0mstrip\u001b[0m\u001b[0;34m(\u001b[0m\u001b[0;34m)\u001b[0m\u001b[0;34m)\u001b[0m\u001b[0;34m\u001b[0m\u001b[0;34m\u001b[0m\u001b[0m\n",
            "\u001b[0;31mFileNotFoundError\u001b[0m: [Errno 2] No such file or directory: '/content/C:/New folder/data/C:/New folder/a.txt'"
          ]
        }
      ]
    },
    {
      "cell_type": "code",
      "metadata": {
        "colab_type": "code",
        "id": "t7vIhFTJb3-j",
        "outputId": "8b8a332b-d65e-4605-e9e7-2763b61f9c6f",
        "colab": {
          "base_uri": "https://localhost:8080/",
          "height": 231
        }
      },
      "source": [
        "file_path = os.path.join(data_dir, 'simple_file.txt')\n",
        "\n",
        "# THIS IS NOT THE PREFERRED WAY. Use With Statement instead. Example is in the next cell\n",
        "simple_file = open(file_path, 'r')\n",
        "for line in simple_file:\n",
        "    print(line.strip())\n",
        "simple_file.close()  # This has to be called explicitly "
      ],
      "execution_count": 0,
      "outputs": [
        {
          "output_type": "error",
          "ename": "FileNotFoundError",
          "evalue": "ignored",
          "traceback": [
            "\u001b[0;31m---------------------------------------------------------------------------\u001b[0m",
            "\u001b[0;31mFileNotFoundError\u001b[0m                         Traceback (most recent call last)",
            "\u001b[0;32m<ipython-input-18-3786bca6d8ca>\u001b[0m in \u001b[0;36m<module>\u001b[0;34m()\u001b[0m\n\u001b[1;32m      2\u001b[0m \u001b[0;34m\u001b[0m\u001b[0m\n\u001b[1;32m      3\u001b[0m \u001b[0;31m# THIS IS NOT THE PREFERRED WAY. Use With Statement instead. Example is in the next cell\u001b[0m\u001b[0;34m\u001b[0m\u001b[0;34m\u001b[0m\u001b[0;34m\u001b[0m\u001b[0m\n\u001b[0;32m----> 4\u001b[0;31m \u001b[0msimple_file\u001b[0m \u001b[0;34m=\u001b[0m \u001b[0mopen\u001b[0m\u001b[0;34m(\u001b[0m\u001b[0mfile_path\u001b[0m\u001b[0;34m,\u001b[0m \u001b[0;34m'r'\u001b[0m\u001b[0;34m)\u001b[0m\u001b[0;34m\u001b[0m\u001b[0;34m\u001b[0m\u001b[0m\n\u001b[0m\u001b[1;32m      5\u001b[0m \u001b[0;32mfor\u001b[0m \u001b[0mline\u001b[0m \u001b[0;32min\u001b[0m \u001b[0msimple_file\u001b[0m\u001b[0;34m:\u001b[0m\u001b[0;34m\u001b[0m\u001b[0;34m\u001b[0m\u001b[0m\n\u001b[1;32m      6\u001b[0m     \u001b[0mprint\u001b[0m\u001b[0;34m(\u001b[0m\u001b[0mline\u001b[0m\u001b[0;34m.\u001b[0m\u001b[0mstrip\u001b[0m\u001b[0;34m(\u001b[0m\u001b[0;34m)\u001b[0m\u001b[0;34m)\u001b[0m\u001b[0;34m\u001b[0m\u001b[0;34m\u001b[0m\u001b[0m\n",
            "\u001b[0;31mFileNotFoundError\u001b[0m: [Errno 2] No such file or directory: '/content/C:/New folder/data/simple_file.txt'"
          ]
        }
      ]
    },
    {
      "cell_type": "markdown",
      "metadata": {
        "colab_type": "text",
        "id": "dKNX0yYeb3-q"
      },
      "source": [
        "## Writing files"
      ]
    },
    {
      "cell_type": "code",
      "metadata": {
        "colab_type": "code",
        "id": "wmXm_q86b3-s",
        "colab": {}
      },
      "source": [
        "new_file_path = os.path.join(data_dir, 'new_file.txt')\n",
        "\n",
        "with open(new_file_path, 'w') as my_file:\n",
        "    my_file.write('This is my first file that I wrote with Python.')"
      ],
      "execution_count": 0,
      "outputs": []
    },
    {
      "cell_type": "markdown",
      "metadata": {
        "colab_type": "text",
        "id": "_B6qE-6Cb3-0"
      },
      "source": [
        "Now go and check that there is a new_file.txt in the data directory. After that we can delete the file by:"
      ]
    },
    {
      "cell_type": "code",
      "metadata": {
        "colab_type": "code",
        "id": "WFw4Wbnlb3-1",
        "colab": {}
      },
      "source": [
        "if os.path.exists(new_file_path):  # make sure it's there\n",
        "    os.remove(new_file_path)"
      ],
      "execution_count": 0,
      "outputs": []
    },
    {
      "cell_type": "markdown",
      "metadata": {
        "colab_type": "text",
        "id": "aevLdBh6b3-7"
      },
      "source": [
        "## Python Pickling"
      ]
    },
    {
      "cell_type": "markdown",
      "metadata": {
        "colab_type": "text",
        "id": "O8Y81-URb3-9"
      },
      "source": [
        " - Python pickle module is used for serializing and de-serializing a Python object structure. \n",
        " - Any object in Python can be pickled so that it can be saved on disk.\n",
        " - What pickle does is that it “serializes” the object first before writing it to file.\n",
        " - Pickling is a way to convert a python object (list, dict, etc.) into a character stream.\n",
        " - The idea is that this character stream contains all the information necessary to reconstruct the object in another python script."
      ]
    },
    {
      "cell_type": "code",
      "metadata": {
        "colab_type": "code",
        "id": "dgYVpfUxb3--",
        "colab": {}
      },
      "source": [
        "# Python3 program to illustrate store \n",
        "# efficiently using pickle module \n",
        "# Module translates an in-memory Python object \n",
        "# into a serialized byte stream—a string of \n",
        "# bytes that can be written to any file-like object. \n",
        "\n",
        "import pickle \n",
        "\n",
        "def storeData(): \n",
        "\t# initializing data to be stored in db \n",
        "\tOmkar = {'key' : 'Omkar', 'name' : 'Omkar Pathak', \n",
        "\t'age' : 21, 'pay' : 40000} \n",
        "\tJagdish = {'key' : 'Jagdish', 'name' : 'Jagdish Pathak', \n",
        "\t'age' : 50, 'pay' : 50000} \n",
        "\n",
        "\t# database \n",
        "\tdb = {} \n",
        "\tdb['Omkar'] = Omkar \n",
        "\tdb['Jagdish'] = Jagdish \n",
        "\t\n",
        "\t# Its important to use binary mode \n",
        "\tdbfile = open('examplePickle', 'ab') \n",
        "\t\n",
        "\t# source, destination \n",
        "\tpickle.dump(db, dbfile)\t\t\t\t\t \n",
        "\tdbfile.close() \n",
        "\n",
        "def loadData(): \n",
        "\t# for reading also binary mode is important \n",
        "\tdbfile = open('examplePickle', 'rb')\t \n",
        "\tdb = pickle.load(dbfile) \n",
        "\tfor keys in db: \n",
        "\t\tprint(keys, '=>', db[keys]) \n",
        "\tdbfile.close()"
      ],
      "execution_count": 0,
      "outputs": []
    },
    {
      "cell_type": "code",
      "metadata": {
        "colab_type": "code",
        "id": "Hv6OQANpb3_E",
        "colab": {}
      },
      "source": [
        "storeData()"
      ],
      "execution_count": 0,
      "outputs": []
    },
    {
      "cell_type": "code",
      "metadata": {
        "colab_type": "code",
        "id": "mBzn7uK3b3_J",
        "outputId": "e7b034c4-8067-4d06-8425-4f201f64db1a",
        "colab": {}
      },
      "source": [
        "loadData()"
      ],
      "execution_count": 0,
      "outputs": [
        {
          "output_type": "stream",
          "text": [
            "Omkar => {'key': 'Omkar', 'name': 'Omkar Pathak', 'age': 21, 'pay': 40000}\n",
            "Jagdish => {'key': 'Jagdish', 'name': 'Jagdish Pathak', 'age': 50, 'pay': 50000}\n"
          ],
          "name": "stdout"
        }
      ]
    },
    {
      "cell_type": "markdown",
      "metadata": {
        "colab_type": "text",
        "id": "hbyoxmWFb3_Q"
      },
      "source": [
        "### Advantages\n",
        " - Helps in saving complicated data.\n",
        " - Quite easy to use, doesn’t require several lines of code and hence not bulky.\n",
        " - Saved data is not so readable hence provides some data security.\n",
        "\n",
        "### Disadvantages\n",
        " - Non-Python programs may not be able to reconstruct pickled Python objects.\n",
        " - Security risks in unpickling data from malicious sources."
      ]
    },
    {
      "cell_type": "code",
      "metadata": {
        "colab_type": "code",
        "id": "3_f3qhcFb3_S",
        "outputId": "d5020a10-84d3-4160-9a07-dff871402d3c",
        "colab": {}
      },
      "source": [
        "infile = \"inputFile.txt\"\n",
        "outfile = \"outputFile.txt\"\n",
        "\n",
        "# print each line, as read in\n",
        "with open(infile) as f1:\n",
        "\tfor line in f1:\n",
        "\t\tprint (line)\n",
        "\n",
        "print (\"\\n*******************\")\n"
      ],
      "execution_count": 0,
      "outputs": [
        {
          "output_type": "error",
          "ename": "FileNotFoundError",
          "evalue": "[Errno 2] No such file or directory: 'inputFile.txt'",
          "traceback": [
            "\u001b[1;31m---------------------------------------------------------------------------\u001b[0m",
            "\u001b[1;31mFileNotFoundError\u001b[0m                         Traceback (most recent call last)",
            "\u001b[1;32m<ipython-input-2-d9f466cd73b8>\u001b[0m in \u001b[0;36m<module>\u001b[1;34m\u001b[0m\n\u001b[0;32m      3\u001b[0m \u001b[1;33m\u001b[0m\u001b[0m\n\u001b[0;32m      4\u001b[0m \u001b[1;31m# print each line, as read in\u001b[0m\u001b[1;33m\u001b[0m\u001b[1;33m\u001b[0m\u001b[1;33m\u001b[0m\u001b[0m\n\u001b[1;32m----> 5\u001b[1;33m \u001b[1;32mwith\u001b[0m \u001b[0mopen\u001b[0m\u001b[1;33m(\u001b[0m\u001b[0minfile\u001b[0m\u001b[1;33m)\u001b[0m \u001b[1;32mas\u001b[0m \u001b[0mf1\u001b[0m\u001b[1;33m:\u001b[0m\u001b[1;33m\u001b[0m\u001b[1;33m\u001b[0m\u001b[0m\n\u001b[0m\u001b[0;32m      6\u001b[0m         \u001b[1;32mfor\u001b[0m \u001b[0mline\u001b[0m \u001b[1;32min\u001b[0m \u001b[0mf1\u001b[0m\u001b[1;33m:\u001b[0m\u001b[1;33m\u001b[0m\u001b[1;33m\u001b[0m\u001b[0m\n\u001b[0;32m      7\u001b[0m                 \u001b[0mprint\u001b[0m \u001b[1;33m(\u001b[0m\u001b[0mline\u001b[0m\u001b[1;33m)\u001b[0m\u001b[1;33m\u001b[0m\u001b[1;33m\u001b[0m\u001b[0m\n",
            "\u001b[1;31mFileNotFoundError\u001b[0m: [Errno 2] No such file or directory: 'inputFile.txt'"
          ]
        }
      ]
    },
    {
      "cell_type": "code",
      "metadata": {
        "id": "wkbAa2QhLlJs",
        "colab_type": "code",
        "colab": {}
      },
      "source": [
        "# print each line, stripping last newline character\n",
        "with open(infile) as f1:\n",
        "\tfor line in f1:\n",
        "\t\tprint (line[:-1])\n",
        "\n",
        "print (\"\\n*******************\")\n"
      ],
      "execution_count": 0,
      "outputs": []
    },
    {
      "cell_type": "code",
      "metadata": {
        "id": "_5WhzGiULlJy",
        "colab_type": "code",
        "colab": {}
      },
      "source": [
        "# print makes only (first word of each line)\n",
        "with open(infile) as f1:\n",
        "\tfor line in f1:\n",
        "\t\trow = line.split(\",\")\n",
        "\t\tprint(row[0])\n",
        "\n",
        "print (\"\\n*******************\")\n"
      ],
      "execution_count": 0,
      "outputs": []
    },
    {
      "cell_type": "code",
      "metadata": {
        "id": "XAOuSlLQLlJ3",
        "colab_type": "code",
        "colab": {}
      },
      "source": [
        "# print each line as a formatted list\n",
        "with open(infile) as f1:\n",
        "\tfor line in f1:\n",
        "\t\trow = line.split(\",\")\n",
        "\t\tprint(row[0] + \"\\n-----------------\")\n",
        "\t\tfor i in range(1, len(row)):\n",
        "\t\t\tprint(row[i])\n",
        "\n",
        "print (\"\\n*******************\")\n"
      ],
      "execution_count": 0,
      "outputs": []
    },
    {
      "cell_type": "code",
      "metadata": {
        "id": "aFysENxSLlJ6",
        "colab_type": "code",
        "colab": {}
      },
      "source": [
        "# add each line to a list\n",
        "cars = list()\n",
        "with open(infile) as f1:\n",
        "\tfor line in f1:\n",
        "\t\trow = line.split(\",\")\n",
        "\t\tcars.append(row)\n",
        "\tprint(cars[0][0])\n",
        "\t\n"
      ],
      "execution_count": 0,
      "outputs": []
    },
    {
      "cell_type": "code",
      "metadata": {
        "id": "FtHeg5PYLlJ-",
        "colab_type": "code",
        "colab": {}
      },
      "source": [
        "# write Makes only to outputFile\n",
        "with open(outfile, 'a') as f2:\n",
        "\tfor car in cars:\n",
        "\t\tf2.write(car[0] + \"\\n\")\n",
        "\n",
        "# write list of row-lists to outputFile\n",
        "with open(outfile, 'a') as f2:\n",
        "\tfor car in cars:\n",
        "\t\tf2.write(str(car) + \"\\n\")\n"
      ],
      "execution_count": 0,
      "outputs": []
    },
    {
      "cell_type": "code",
      "metadata": {
        "id": "x5rdR7g7LlKB",
        "colab_type": "code",
        "colab": {}
      },
      "source": [
        ""
      ],
      "execution_count": 0,
      "outputs": []
    },
    {
      "cell_type": "code",
      "metadata": {
        "id": "2Fm4pkViLlKF",
        "colab_type": "code",
        "colab": {}
      },
      "source": [
        ""
      ],
      "execution_count": 0,
      "outputs": []
    },
    {
      "cell_type": "code",
      "metadata": {
        "id": "EN71EgVULlKJ",
        "colab_type": "code",
        "colab": {}
      },
      "source": [
        ""
      ],
      "execution_count": 0,
      "outputs": []
    },
    {
      "cell_type": "code",
      "metadata": {
        "id": "lj7Sg28-LlKO",
        "colab_type": "code",
        "colab": {}
      },
      "source": [
        ""
      ],
      "execution_count": 0,
      "outputs": []
    },
    {
      "cell_type": "code",
      "metadata": {
        "id": "We3fifv1LlKR",
        "colab_type": "code",
        "colab": {}
      },
      "source": [
        ""
      ],
      "execution_count": 0,
      "outputs": []
    }
  ]
}